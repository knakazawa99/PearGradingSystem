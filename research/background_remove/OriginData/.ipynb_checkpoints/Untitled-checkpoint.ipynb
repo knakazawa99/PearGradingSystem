{
 "cells": [
  {
   "cell_type": "code",
   "execution_count": 1,
   "id": "fdbd2a7d",
   "metadata": {},
   "outputs": [],
   "source": [
    "import cv2\n",
    "import numpy as np\n",
    "import matplotlib.pyplot as plt"
   ]
  },
  {
   "cell_type": "code",
   "execution_count": 2,
   "id": "053e7d32",
   "metadata": {},
   "outputs": [],
   "source": [
    "image = cv2.imread('image.jpg')"
   ]
  },
  {
   "cell_type": "code",
   "execution_count": 3,
   "id": "5087f7bb",
   "metadata": {},
   "outputs": [
    {
     "data": {
      "text/plain": [
       "array([[[101, 134, 134],\n",
       "        [103, 136, 130],\n",
       "        [109, 132, 129],\n",
       "        ...,\n",
       "        [163, 190, 205],\n",
       "        [156, 184, 209],\n",
       "        [161, 181, 211]],\n",
       "\n",
       "       [[103, 135, 134],\n",
       "        [103, 132, 136],\n",
       "        [105, 128, 134],\n",
       "        ...,\n",
       "        [160, 187, 205],\n",
       "        [155, 176, 213],\n",
       "        [157, 180, 215]],\n",
       "\n",
       "       [[108, 129, 138],\n",
       "        [101, 135, 135],\n",
       "        [ 98, 134, 130],\n",
       "        ...,\n",
       "        [155, 186, 210],\n",
       "        [148, 179, 210],\n",
       "        [152, 184, 212]],\n",
       "\n",
       "       ...,\n",
       "\n",
       "       [[107, 138, 135],\n",
       "        [105, 141, 133],\n",
       "        [113, 124, 143],\n",
       "        ...,\n",
       "        [175, 200, 220],\n",
       "        [177, 203, 215],\n",
       "        [177, 200, 211]],\n",
       "\n",
       "       [[108, 140, 131],\n",
       "        [100, 149, 127],\n",
       "        [103, 139, 136],\n",
       "        ...,\n",
       "        [176, 192, 223],\n",
       "        [174, 198, 221],\n",
       "        [175, 197, 221]],\n",
       "\n",
       "       [[107, 144, 127],\n",
       "        [103, 146, 126],\n",
       "        [101, 144, 132],\n",
       "        ...,\n",
       "        [169, 203, 219],\n",
       "        [174, 197, 226],\n",
       "        [176, 192, 234]]], dtype=uint8)"
      ]
     },
     "execution_count": 3,
     "metadata": {},
     "output_type": "execute_result"
    }
   ],
   "source": [
    "def plot_img():\n",
    "    plt.figure(figsize=(10,8))\n",
    "    plt.imshow(cv2.cvtColor(image[y_min:y_max, x_min:x_max], cv2.COLOR_BGR2RGB))"
   ]
  },
  {
   "cell_type": "code",
   "execution_count": null,
   "id": "0cf80cf1",
   "metadata": {},
   "outputs": [],
   "source": [
    "def get_contour(image):\n",
    "    image_blur = cv2.GaussianBlur(image, (19, 19), 0)\n",
    "    image_saturation = cv2.cvtColor(image_blur, cv2.COLOR_BGR2HLS)[:, :, 2].astype(np.uint8)\n",
    "    _, binary_image = cv2.threshold(image_saturation, 0, 255, cv2.THRESH_OTSU)\n",
    "    contours, hierarchy = cv2.findContours(\n",
    "        image=binary_image, \n",
    "        mode=cv2.RETR_EXTERNAL, \n",
    "        method=cv2.CHAIN_APPROX_SIMPLE\n",
    "    )\n",
    "    return max(contours, key=lambda x: cv2.contourArea(x))"
   ]
  }
 ],
 "metadata": {
  "kernelspec": {
   "display_name": "Python 3 (ipykernel)",
   "language": "python",
   "name": "python3"
  },
  "language_info": {
   "codemirror_mode": {
    "name": "ipython",
    "version": 3
   },
   "file_extension": ".py",
   "mimetype": "text/x-python",
   "name": "python",
   "nbconvert_exporter": "python",
   "pygments_lexer": "ipython3",
   "version": "3.10.9"
  }
 },
 "nbformat": 4,
 "nbformat_minor": 5
}
